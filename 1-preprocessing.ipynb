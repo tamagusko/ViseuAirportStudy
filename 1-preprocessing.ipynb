{
 "cells": [
  {
   "cell_type": "markdown",
   "metadata": {},
   "source": [
    "<h1>Preprocessing - Design of the Viseu Aerodrome Runway</h1>\n",
    "<br> In this file you will find information about databases, data preparation, and data processing.\n",
    "\n",
    "<h2>Basic info</h2>\n",
    "\n",
    "© Tiago Tamagusko (tamagusko@gmail.com) - <a href=\"https://tamagusko.github.io\">https://tamagusko.github.io</a>\n",
    "<br> Version: 0.5 (28/12/2019)\n",
    "<br> Using: Jupyter Notebook 6.0.2, Python 3.8, Linux 4.19.88-1-MANJARO x64, UTF-8.\n",
    "<br> Required libraries: pandas 0.25.3, sys 3.8.0, geopy 1.20.0.\n",
    "<br> Project Page: <a href=\"https://github.com/tamagusko/ViseuAirportStudy\">github.com/tamagusko/ViseuAirportStudy</a>\n",
    "<br> Licence: Apache-2.0, see <a href=\"/LICENSE.md\">LICENSE.md</a> for more details.\n",
    "\n",
    "\n",
    "<h2>Problem</h2>\n",
    "\n",
    "Viseu Aerodrome is interested in servicing bigger aircraft, which enable longer range and carry more passengers per aircraft [1]. This requires improving the structural strength of the pavement and increasing the length of its runway.\n",
    "\n",
    "<h2>Proposal</h2>\n",
    "\n",
    "In order to design an airport pavement, it is necessary to know two main characteristics, namely the Pavement Classification Number¹ (PCN) and the extension of the runway.\n",
    "\n",
    "Thus, the proposed challenge is to design a pavement with capacity (PCN) and extension to meet a desired group of routes.\n",
    "\n",
    "<h2>Project data structure</h2>\n",
    "    \n",
    "    ├── 1-preprocessing.ipyng    # Database preprocessing \n",
    "    ├── 2-analysis.ipynb               # Data analysis\n",
    "    ├── data                  \n",
    "    │          ├── raw                       # Raw data\n",
    "    │          ├── processed           # Data processed\n",
    "    ├── reports                              # Outputs\n",
    "    \n",
    "<h2>Input data</h2>\n",
    "\n",
    "1. Aircraft database - <a href=\"/data/processed/AircraftData.csv\">AircraftData.csv</a>\n",
    "   <br>a. **Aircraft**: Aircraft identification;\n",
    "   <br>b. **ACN**²: Aircraft Classification Number;\n",
    "   <br>c. **RequiredExtension**: Runway length required for landing and takeoff operations;\n",
    "   <br>d. **Autonomy**: Aircraft autonomy;\n",
    "   <br>e. **Passagers**³: Number of passengers carried.\n",
    "   <br> **Updated: 25/12/2019**\n",
    "\n",
    "2. Airport database  - <a href=\"/data/processed/AirportTestData.csv\">AirportTestData.csv</a>  [2] \n",
    "   <br>a. **Airport ID**: \tUnique identifier for this airport;\n",
    "   <br>b. **Airport**: Name of airport;\n",
    "   <br>c. **City**:  Main city served by airport;\n",
    "   <br>d. **Country**: \tCountry or territory where airport is located;\n",
    "   <br>e. **IATA**:  3-letter IATA code - **Unused data**;\n",
    "   <br>f. **ICAO**:  4-letter ICAO code;\n",
    "   <br>g. **Latitude**: \tLatitutide in decimal degrees. Negative is South, positive is North;\n",
    "   <br>h. **Longitude** :\tLongitude in decimal degrees. Negative is West, positive is East;\n",
    "   <br>i. **Altitude**: \tAltitude in feet - **Unused data**;\n",
    "   <br>j. **Timezone**: \tHours offset from UTC  - **Unused data**;\n",
    "   <br>k. **DST**: \tDaylight savings time. One of E (Europe), A (US/Canada), S (South America), O (Australia), Z (New Zealand), N (None) or U (Unknown)  - **Unused data**;\n",
    "   <br>l. **Tz**: Timezone in \"tz\" (Olson) format, eg. \"America/Los_Angeles\" - **Unused data**;\n",
    "   <br>m. **Type**: \tType of the airport - **Unused data**;\n",
    "   <br>n. **Source**: \tSource of this data - **Unused data**.\n",
    "   <br> **Updated: 23/12/2019**\n",
    "3. Airport Database⁴ with extra data - <a href=\"/data/processed/AirportTestData.csv\">AirportTestExtraData.csv</a> [3]\n",
    "   <br>a. **ICAO**:  4-letter ICAO code;\n",
    "   <br>a. **RWYLenght**:  Runway length in meters;\n",
    "   <br>a. **PCN**:  Runway structural strength number.\n",
    "   <br> **Updated: 28/12/2019**\n",
    "   \n",
    "The data is UTF-8 encoded.\n",
    "\n",
    "If you want to change the list of **aircraft** under study, edit the file: **Aircraft database (AircraftData.csv)**\n",
    "<br>If you would like to change the list of **airports** under study, edit the file: **Airport extra database (AirportExtraData.csv)**\n",
    "\n",
    "Notes: \n",
    "\n",
    "**¹** Indicates, among other elements, the structural strength of the pavement. <br>\n",
    "**²** It is related to the impact of the aircraft on the pavement, and must be less than or equal to the runway PCN. <br>\n",
    "**³** Information not required. <br>\n",
    "**⁴** Shengen area airports only (lower airport security requirements).\n"
   ]
  },
  {
   "cell_type": "markdown",
   "metadata": {},
   "source": [
    "<h1>1. Data Preparation</h1>"
   ]
  },
  {
   "cell_type": "code",
   "execution_count": null,
   "metadata": {
    "ExecuteTime": {
     "start_time": "2019-12-29T11:52:34.518Z"
    }
   },
   "outputs": [],
   "source": [
    "# Import needed libraries\n",
    "\n",
    "import pandas as pd\n",
    "import sys\n",
    "!{sys.executable} - m pip install geopy\n",
    "from geopy import distance\n",
    "\n",
    "# Reference airport, change this value (RefAirportICAO) to choose another airport\n",
    "RefAirportICAO = \"LPVZ\""
   ]
  },
  {
   "cell_type": "code",
   "execution_count": null,
   "metadata": {
    "ExecuteTime": {
     "start_time": "2019-12-29T11:50:20.384Z"
    }
   },
   "outputs": [],
   "source": [
    "# Reading data\n",
    "\n",
    "# Database developed by the author\n",
    "aircrafts = pd.read_csv(\"data/processed/AircraftData.csv\", sep=\",\", index_col =\"Aircraft\")\n",
    "# Database adapted from: https://openflights.org/data.html\n",
    "airports = pd.read_csv(\"data/processed/AirportData.csv\", sep=\",\", index_col =\"ICAO\")\n",
    "# Database developed with data from https://worldaerodata.com\n",
    "airportsExtra = pd.read_csv(\"data/processed/AirportExtraData.csv\", sep=\",\", index_col=\"ICAO\")"
   ]
  },
  {
   "cell_type": "code",
   "execution_count": null,
   "metadata": {
    "ExecuteTime": {
     "start_time": "2019-12-29T11:50:20.389Z"
    }
   },
   "outputs": [],
   "source": [
    "# Resulting dataframe - aircrafts: Aircraft,ACN,RequiredExtension,Autonomy,Passagers\n",
    "aircrafts  # Printing the data to test"
   ]
  },
  {
   "cell_type": "code",
   "execution_count": null,
   "metadata": {
    "ExecuteTime": {
     "start_time": "2019-12-29T11:50:20.394Z"
    }
   },
   "outputs": [],
   "source": [
    "# Importing values from AirportTestExtraData.csv and loading on airports dataframe\n",
    "for index, row in airportsExtra.iterrows():\n",
    "    toImport = airportsExtra.loc[[index], [\"RWYLenght\", \"PCN\"]]\n",
    "    toImport = (float(toImport.iloc[:, 0]), float(toImport.iloc[:, 1]))\n",
    "    # Loading data in airports dataframe\n",
    "    airports.loc[airports.index == index, [\"RWYLenght\", \"PCN\"]] = toImport\n",
    "\n",
    "# Dropping the unwanted data in airports dataframe\n",
    "airports = airports.drop(\"ID\", 1)\n",
    "airports = airports.drop(\"IATA\", 1)\n",
    "airports = airports.drop(\"Timezone\", 1)\n",
    "airports = airports.drop(\"DST\", 1)\n",
    "airports = airports.drop(\"TZ\", 1)\n",
    "airports = airports.drop(\"Type\", 1)\n",
    "airports = airports.drop(\"Source\", 1)\n",
    "# if RWYLenght or PCN are 0: delete row\n",
    "airports = airports.drop(\n",
    "    airports[(airports.RWYLenght == 0) | (airports.PCN == 0)].index)\n",
    "\n",
    "# NOTE: Airports with incomplete or questionable data:\n",
    "# LIRF/Roma - no values for PCN (29/12/2019)"
   ]
  },
  {
   "cell_type": "code",
   "execution_count": null,
   "metadata": {
    "ExecuteTime": {
     "start_time": "2019-12-29T11:50:20.397Z"
    }
   },
   "outputs": [],
   "source": [
    "# Checking the number of airports with correct data for analysis\n",
    "airports.shape"
   ]
  },
  {
   "cell_type": "code",
   "execution_count": null,
   "metadata": {
    "ExecuteTime": {
     "start_time": "2019-12-29T11:50:20.401Z"
    }
   },
   "outputs": [],
   "source": [
    "# Resulting dataframe - airports:  ICAO,Airport,City,Country,Latitude,Longitude,Altitude,DistanceToRef(Null),RWYLenght,PCN\n",
    "\n",
    "# Printing data from the first five lines to test\n",
    "airports.head(5)"
   ]
  },
  {
   "cell_type": "markdown",
   "metadata": {},
   "source": [
    "<h1>2. Data processing</h1>\n",
    "\n",
    "The distance (**DistanceToRef**) in kilometers to the reference airport (LPVZ) shall be calculated.\n",
    "<br><br>Current Dataframe (airports): ICAO, Airport, City, Country, Latitude, Longitude, Altitude, RWYLenght, PCN.\n",
    "<br>Required dataframe (airports): ICAO, Airport, City, Country, Latitude, Longitude, Altitude, **DistanceToRef**, RWYLenght, PCN."
   ]
  },
  {
   "cell_type": "code",
   "execution_count": null,
   "metadata": {
    "ExecuteTime": {
     "start_time": "2019-12-29T11:50:20.408Z"
    }
   },
   "outputs": [],
   "source": [
    "# Saving values to the reference airport\n",
    "RefAirport = airports.loc[[RefAirportICAO], [\"Latitude\", \"Longitude\", \"Altitude\"]]\n",
    "RefAirport = (float(RefAirport.iloc[:, 0]), float(RefAirport.iloc[:, 1]), float(RefAirport.iloc[:, 2]))\n",
    "\n",
    "# Calculating distance from Viseu Airport (LPVZ)\n",
    "for index, row in airports.iterrows():\n",
    "    toAirport = airports.loc[[index], [\"Latitude\", \"Longitude\", \"Altitude\"]]\n",
    "    toAirport = (float(toAirport.iloc[:, 0]), float(\n",
    "        toAirport.iloc[:, 1]), float(toAirport.iloc[:, 2]))\n",
    "    # Calculation geodesic distance\n",
    "    geodesicDistance = distance.geodesic(RefAirport, toAirport).km\n",
    "    # Loading results into dataframe\n",
    "    airports.loc[index, \"DistanceToRef\"] = round(geodesicDistance, 1)\n",
    "\n",
    "# Resulting dataframe ICAO, Airport, City, Country, Latitude, Longitude, Altitude, DistanceToRef, RWYLenght, PCN."
   ]
  },
  {
   "cell_type": "code",
   "execution_count": null,
   "metadata": {
    "ExecuteTime": {
     "start_time": "2019-12-29T11:50:20.413Z"
    }
   },
   "outputs": [],
   "source": [
    "# Printing data from the first five lines to test\n",
    "airports.head(5)"
   ]
  },
  {
   "cell_type": "code",
   "execution_count": null,
   "metadata": {
    "ExecuteTime": {
     "start_time": "2019-12-29T11:50:20.421Z"
    }
   },
   "outputs": [],
   "source": [
    "# Saving the results to a csv file (AirportProcessedData.csv) in the reports folder\n",
    "airports.to_csv('reports/AirportProcessedData.csv')"
   ]
  },
  {
   "cell_type": "markdown",
   "metadata": {},
   "source": [
    "<h3> Go to <a href=\"/2-analysis.ipyng\">2-analysis.ipyng</a> to view data analysis. </h3>\n",
    "\n",
    "<h1> References</h1>\n",
    "\n",
    "[1] Martins, J. P. F. (2018). Reflexão sobre a viabilidade e localização de uma infraestrutura aeroportuária na região Centro de Portugal (Universidade do Porto). https://doi.org/10.13140/RG.2.2.34944.69124\n",
    "<br>[2] OpenFlights (2019). Airport, airline and route data. Retrieved December 23, 2019, from https://openflights.org/data.html\n",
    "<br>[3] World Aero Data (2019). World Aeronautical Database. Retrieved December 28, 2019, from https://worldaerodata.com<br><br>"
   ]
  }
 ],
 "metadata": {
  "kernelspec": {
   "display_name": "Python 3",
   "language": "python",
   "name": "python3"
  },
  "language_info": {
   "codemirror_mode": {
    "name": "ipython",
    "version": 3
   },
   "file_extension": ".py",
   "mimetype": "text/x-python",
   "name": "python",
   "nbconvert_exporter": "python",
   "pygments_lexer": "ipython3",
   "version": "3.8.1"
  }
 },
 "nbformat": 4,
 "nbformat_minor": 2
}
